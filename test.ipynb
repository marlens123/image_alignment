{
 "cells": [
  {
   "cell_type": "code",
   "execution_count": 2,
   "metadata": {},
   "outputs": [],
   "source": []
  },
  {
   "cell_type": "code",
   "execution_count": 12,
   "metadata": {},
   "outputs": [
    {
     "name": "stdout",
     "output_type": "stream",
     "text": [
      "CameraTransform(\n",
      "  lens (NoDistortion):\n",
      "  lens (BrownLensDistortion):\n",
      "    k1:\t\t-0.019\n",
      "    k2:\t\t0.011\n",
      "    k3:\t\t-0.003\n",
      "  position:\n",
      "    x:\t0.000000 m\n",
      "    y:\t0.000000 m\n",
      "    h:\t30.000000 m\n",
      "  orientation:\n",
      "    tilt:\t\t85.000000°\n",
      "    roll:\t\t0.000000°\n",
      "    heading:\t0.000000°\n",
      ")\n",
      "(2600, 3908, 3)\n"
     ]
    },
    {
     "ename": "AttributeError",
     "evalue": "'Camera' object has no attribute 'image_width_px'",
     "output_type": "error",
     "traceback": [
      "\u001b[1;31m---------------------------------------------------------------------------\u001b[0m",
      "\u001b[1;31mAttributeError\u001b[0m                            Traceback (most recent call last)",
      "\u001b[1;32me:\\polar\\image_alignment\\test.ipynb Cell 2\u001b[0m line \u001b[0;36m1\n\u001b[0;32m     <a href='vscode-notebook-cell:/e%3A/polar/image_alignment/test.ipynb#W1sZmlsZQ%3D%3D?line=15'>16</a>\u001b[0m \u001b[39mprint\u001b[39m(cam)\n\u001b[0;32m     <a href='vscode-notebook-cell:/e%3A/polar/image_alignment/test.ipynb#W1sZmlsZQ%3D%3D?line=16'>17</a>\u001b[0m \u001b[39mprint\u001b[39m(im\u001b[39m.\u001b[39mshape)\n\u001b[1;32m---> <a href='vscode-notebook-cell:/e%3A/polar/image_alignment/test.ipynb#W1sZmlsZQ%3D%3D?line=17'>18</a>\u001b[0m unim \u001b[39m=\u001b[39m cam\u001b[39m.\u001b[39;49mundistortImage(im)\n\u001b[0;32m     <a href='vscode-notebook-cell:/e%3A/polar/image_alignment/test.ipynb#W1sZmlsZQ%3D%3D?line=19'>20</a>\u001b[0m plt\u001b[39m.\u001b[39mimshow(unim)\n",
      "File \u001b[1;32mc:\\Users\\marle\\miniconda3\\envs\\extended\\lib\\site-packages\\cameratransform\\camera.py:1254\u001b[0m, in \u001b[0;36mCamera.undistortImage\u001b[1;34m(self, image, extent, scaling, do_plot, alpha, skip_size_check)\u001b[0m\n\u001b[0;32m   1252\u001b[0m \u001b[39m# check if the size of the image matches the size of the camera\u001b[39;00m\n\u001b[0;32m   1253\u001b[0m \u001b[39mif\u001b[39;00m \u001b[39mnot\u001b[39;00m skip_size_check:\n\u001b[1;32m-> 1254\u001b[0m     \u001b[39massert\u001b[39;00m image\u001b[39m.\u001b[39mshape[\u001b[39m1\u001b[39m] \u001b[39m==\u001b[39m \u001b[39mself\u001b[39;49m\u001b[39m.\u001b[39;49mimage_width_px, \u001b[39m\"\u001b[39m\u001b[39mThe with of the image (\u001b[39m\u001b[39m%d\u001b[39;00m\u001b[39m) does not match the image width of the camera (\u001b[39m\u001b[39m%d\u001b[39;00m\u001b[39m)\u001b[39m\u001b[39m\"\u001b[39m \u001b[39m%\u001b[39m (image\u001b[39m.\u001b[39mshape[\u001b[39m1\u001b[39m], \u001b[39mself\u001b[39m\u001b[39m.\u001b[39mimage_width_px)\n\u001b[0;32m   1255\u001b[0m     \u001b[39massert\u001b[39;00m image\u001b[39m.\u001b[39mshape[\u001b[39m0\u001b[39m] \u001b[39m==\u001b[39m \u001b[39mself\u001b[39m\u001b[39m.\u001b[39mimage_height_px, \u001b[39m\"\u001b[39m\u001b[39mThe height of the image (\u001b[39m\u001b[39m%d\u001b[39;00m\u001b[39m) does not match the image height of the camera (\u001b[39m\u001b[39m%d\u001b[39;00m\u001b[39m).\u001b[39m\u001b[39m\"\u001b[39m \u001b[39m%\u001b[39m (image\u001b[39m.\u001b[39mshape[\u001b[39m0\u001b[39m], \u001b[39mself\u001b[39m\u001b[39m.\u001b[39mimage_height_px)\n\u001b[0;32m   1257\u001b[0m x, y \u001b[39m=\u001b[39m \u001b[39mself\u001b[39m\u001b[39m.\u001b[39m_getUndistortMap(extent\u001b[39m=\u001b[39mextent, scaling\u001b[39m=\u001b[39mscaling)\n",
      "File \u001b[1;32mc:\\Users\\marle\\miniconda3\\envs\\extended\\lib\\site-packages\\cameratransform\\parameter_set.py:172\u001b[0m, in \u001b[0;36mClassWithParameterSet.__getattr__\u001b[1;34m(self, item)\u001b[0m\n\u001b[0;32m    170\u001b[0m     \u001b[39mif\u001b[39;00m item \u001b[39m==\u001b[39m \u001b[39m\"\u001b[39m\u001b[39mdefaults\u001b[39m\u001b[39m\"\u001b[39m \u001b[39mor\u001b[39;00m item \u001b[39min\u001b[39;00m \u001b[39mself\u001b[39m\u001b[39m.\u001b[39mparameters\u001b[39m.\u001b[39mparameters:\n\u001b[0;32m    171\u001b[0m         \u001b[39mreturn\u001b[39;00m \u001b[39mgetattr\u001b[39m(\u001b[39mself\u001b[39m\u001b[39m.\u001b[39mparameters, item)\n\u001b[1;32m--> 172\u001b[0m \u001b[39mreturn\u001b[39;00m \u001b[39mobject\u001b[39;49m\u001b[39m.\u001b[39;49m\u001b[39m__getattribute__\u001b[39;49m(\u001b[39mself\u001b[39;49m, item)\n",
      "\u001b[1;31mAttributeError\u001b[0m: 'Camera' object has no attribute 'image_width_px'"
     ]
    }
   ],
   "source": [
    "import cameratransform as camtrans\n",
    "import matplotlib.pyplot as plt\n",
    "\n",
    "path = \"E:/test/potential_vis/20220718_152014_350_1263.jpg\"\n",
    "\n",
    "# #intrinsic camera parameters\n",
    "f = 1949.31787 # in px\n",
    "k1 = -0.018947\n",
    "k2 = 0.0112544\n",
    "k3 = -0.00317776\n",
    "\n",
    "image_size = (2600, 3908)  # in px\n",
    "cam = camtrans.Camera(camtrans.BrownLensDistortion(k1=k1,k2=k2,k3=k3,projection=camtrans.RectilinearProjection(focallength_px=f,image_width_px=3908, image_height_px=2600)))\n",
    "\n",
    "im = plt.imread(path)\n",
    "print(cam)\n",
    "print(im.shape)\n",
    "unim = cam.undistortImage(im)\n",
    "\n",
    "plt.imshow(unim)"
   ]
  }
 ],
 "metadata": {
  "kernelspec": {
   "display_name": "extended",
   "language": "python",
   "name": "python3"
  },
  "language_info": {
   "codemirror_mode": {
    "name": "ipython",
    "version": 3
   },
   "file_extension": ".py",
   "mimetype": "text/x-python",
   "name": "python",
   "nbconvert_exporter": "python",
   "pygments_lexer": "ipython3",
   "version": "3.10.0"
  }
 },
 "nbformat": 4,
 "nbformat_minor": 2
}
